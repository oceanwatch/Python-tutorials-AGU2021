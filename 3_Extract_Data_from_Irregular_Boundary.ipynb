{
 "cells": [
  {
   "cell_type": "markdown",
   "metadata": {},
   "source": [
    "<p style=\"font-size:14px; text-align: right\">CoastWatch Python Exercises</p>  \n",
    "\n",
    "# Python Basics: a tutorial for the NOAA Satellite Workshop\n",
    "> history | updated August 2021  \n",
    "> owner | NOAA CoastWatch"
   ]
  },
  {
   "cell_type": "markdown",
   "metadata": {},
   "source": [
    "## In this exercise, you will use Python to download data from ERDDAP using an irregular boundary.\n",
    "\n",
    "### The exercise demonstrates the following skills: \n",
    "\n",
    "* Using Python to retrieve information about a dataset from ERDDAP\n",
    "* Getting data from a remote CSV file\n",
    "* Downloading satellite data from ERDDAP in netCDF format\n",
    "* Extracting data within an irregular boundary with Python\n",
    "\n",
    "### The scripts in this exercise are written in Python 3.7.    "
   ]
  },
  {
   "cell_type": "markdown",
   "metadata": {},
   "source": [
    "# Get set up\n",
    "## Import some basic python modules"
   ]
  },
  {
   "cell_type": "code",
   "execution_count": 2,
   "metadata": {},
   "outputs": [],
   "source": [
    "import pkg_resources\n"
   ]
  },
  {
   "cell_type": "markdown",
   "metadata": {},
   "source": [
    "## Look for python modules you might not have installed\n",
    "We will be using the xarray, numpy, and pandas modules for this exercise. Make sure that they are installed in your Python 3 environment. A quick way to do this is with the script below"
   ]
  },
  {
   "cell_type": "code",
   "execution_count": 3,
   "metadata": {},
   "outputs": [
    {
     "name": "stdout",
     "output_type": "stream",
     "text": [
      "All modules are installed\n"
     ]
    }
   ],
   "source": [
    "# Create a set 'curly brackets' of the modules to look for\n",
    "# You can put any modules that you want to in the set\n",
    "required = {'xarray', 'numpy', 'pandas','shapely'}\n",
    "\n",
    "# look for the installed packages\n",
    "installed = {pkg.key for pkg in pkg_resources.working_set}\n",
    "\n",
    "# Find which modules are missing\n",
    "missing = required - installed\n",
    "if len(missing)==0:\n",
    "    print('All modules are installed')\n",
    "else:\n",
    "    print('These modules are missing:', ', '.join(missing))"
   ]
  },
  {
   "cell_type": "markdown",
   "metadata": {},
   "source": [
    "#### If you find missing modules, please go to the appendix at the bottom of the page for installation instructions."
   ]
  },
  {
   "cell_type": "markdown",
   "metadata": {},
   "source": [
    "## Import the modules"
   ]
  },
  {
   "cell_type": "code",
   "execution_count": 4,
   "metadata": {},
   "outputs": [],
   "source": [
    "import numpy as np  # for matrix operations\n",
    "import numpy.ma as ma  # for masking arrays\n",
    "import pandas as pd  # for tabular data\n",
    "import xarray as xr  # for gridded data\n",
    "import matplotlib.pyplot as plt\n",
    "import shapely"
   ]
  },
  {
   "cell_type": "code",
   "execution_count": null,
   "metadata": {},
   "outputs": [],
   "source": []
  },
  {
   "cell_type": "markdown",
   "metadata": {},
   "source": [
    "# Extract data from an irregular bounding box\n",
    "Extract a timeseries of environmental data from an ERDDAP server within an irregular geographical bounding box (polygon), e.g. the boundaries of marine protected area. This is similar to the R rerddap-Xtractogon function\n",
    "\n",
    "## The example uses a polygon that outlines the Monterey Bay Marine Protected Area.  \n",
    "\n",
    "* **Load a csv file (shelf_boundary_gom.csv) that defines the polygon's latitude and longitude coordinates**   \n",
    "The polygon is a series of longitude and latitude coordinates. If you connect the coordinate pairs, like a dot-to-dot puzzle, you create an outline of the Monterey Bay Marine Protected Area."
   ]
  },
  {
   "cell_type": "code",
   "execution_count": 5,
   "metadata": {},
   "outputs": [
    {
     "data": {
      "text/html": [
       "<div>\n",
       "<style scoped>\n",
       "    .dataframe tbody tr th:only-of-type {\n",
       "        vertical-align: middle;\n",
       "    }\n",
       "\n",
       "    .dataframe tbody tr th {\n",
       "        vertical-align: top;\n",
       "    }\n",
       "\n",
       "    .dataframe thead th {\n",
       "        text-align: right;\n",
       "    }\n",
       "</style>\n",
       "<table border=\"1\" class=\"dataframe\">\n",
       "  <thead>\n",
       "    <tr style=\"text-align: right;\">\n",
       "      <th></th>\n",
       "      <th>Longitude</th>\n",
       "      <th>Latitude</th>\n",
       "    </tr>\n",
       "  </thead>\n",
       "  <tbody>\n",
       "    <tr>\n",
       "      <th>0</th>\n",
       "      <td>-122.6275</td>\n",
       "      <td>37.88108</td>\n",
       "    </tr>\n",
       "    <tr>\n",
       "      <th>1</th>\n",
       "      <td>-122.6273</td>\n",
       "      <td>37.88096</td>\n",
       "    </tr>\n",
       "    <tr>\n",
       "      <th>2</th>\n",
       "      <td>-122.6269</td>\n",
       "      <td>37.88097</td>\n",
       "    </tr>\n",
       "    <tr>\n",
       "      <th>3</th>\n",
       "      <td>-122.6265</td>\n",
       "      <td>37.88077</td>\n",
       "    </tr>\n",
       "    <tr>\n",
       "      <th>4</th>\n",
       "      <td>-122.6260</td>\n",
       "      <td>37.88077</td>\n",
       "    </tr>\n",
       "  </tbody>\n",
       "</table>\n",
       "</div>"
      ],
      "text/plain": [
       "   Longitude  Latitude\n",
       "0  -122.6275  37.88108\n",
       "1  -122.6273  37.88096\n",
       "2  -122.6269  37.88097\n",
       "3  -122.6265  37.88077\n",
       "4  -122.6260  37.88077"
      ]
     },
     "execution_count": 5,
     "metadata": {},
     "output_type": "execute_result"
    }
   ],
   "source": [
    "# Load CSV into Pandas\n",
    "myPolygon = pd.read_csv('shapes/mbnms.csv')\n",
    "\n",
    "# list the first 5 values as an example\n",
    "myPolygon.head()"
   ]
  },
  {
   "cell_type": "markdown",
   "metadata": {},
   "source": [
    "## Create a shape from the polygon using the \"shapely\" module"
   ]
  },
  {
   "cell_type": "code",
   "execution_count": 7,
   "metadata": {},
   "outputs": [
    {
     "ename": "ImportError",
     "evalue": "DLL load failed: The specified module could not be found.",
     "output_type": "error",
     "traceback": [
      "\u001b[1;31m---------------------------------------------------------------------------\u001b[0m",
      "\u001b[1;31mImportError\u001b[0m                               Traceback (most recent call last)",
      "\u001b[1;32m<ipython-input-7-b2b4a6f51cac>\u001b[0m in \u001b[0;36m<module>\u001b[1;34m\u001b[0m\n\u001b[1;32m----> 1\u001b[1;33m \u001b[1;32mimport\u001b[0m \u001b[0mshapely\u001b[0m\u001b[1;33m.\u001b[0m\u001b[0mvectorized\u001b[0m\u001b[1;33m\u001b[0m\u001b[1;33m\u001b[0m\u001b[0m\n\u001b[0m\u001b[0;32m      2\u001b[0m \u001b[1;32mfrom\u001b[0m \u001b[0mshapely\u001b[0m\u001b[1;33m.\u001b[0m\u001b[0mgeometry\u001b[0m \u001b[1;32mimport\u001b[0m \u001b[0mPolygon\u001b[0m\u001b[1;33m\u001b[0m\u001b[1;33m\u001b[0m\u001b[0m\n\u001b[0;32m      3\u001b[0m \u001b[1;33m\u001b[0m\u001b[0m\n\u001b[0;32m      4\u001b[0m \u001b[1;31m# Reform the csv data into lon, lat pairs\u001b[0m\u001b[1;33m\u001b[0m\u001b[1;33m\u001b[0m\u001b[1;33m\u001b[0m\u001b[0m\n\u001b[0;32m      5\u001b[0m \u001b[0mpoly\u001b[0m \u001b[1;33m=\u001b[0m \u001b[0mlist\u001b[0m\u001b[1;33m(\u001b[0m\u001b[0mzip\u001b[0m\u001b[1;33m(\u001b[0m\u001b[0mlist\u001b[0m\u001b[1;33m(\u001b[0m\u001b[0mmyPolygon\u001b[0m\u001b[1;33m.\u001b[0m\u001b[0mLongitude\u001b[0m\u001b[1;33m)\u001b[0m\u001b[1;33m,\u001b[0m \u001b[0mlist\u001b[0m\u001b[1;33m(\u001b[0m\u001b[0mmyPolygon\u001b[0m\u001b[1;33m.\u001b[0m\u001b[0mLatitude\u001b[0m\u001b[1;33m)\u001b[0m\u001b[1;33m)\u001b[0m\u001b[1;33m)\u001b[0m\u001b[1;33m\u001b[0m\u001b[1;33m\u001b[0m\u001b[0m\n",
      "\u001b[1;32m~\\AppData\\Roaming\\Python\\Python37\\site-packages\\shapely\\vectorized\\__init__.py\u001b[0m in \u001b[0;36m<module>\u001b[1;34m\u001b[0m\n\u001b[0;32m      1\u001b[0m \u001b[1;34m\"\"\"Provides multi-point element-wise operations such as ``contains``.\"\"\"\u001b[0m\u001b[1;33m\u001b[0m\u001b[1;33m\u001b[0m\u001b[0m\n\u001b[0;32m      2\u001b[0m \u001b[1;33m\u001b[0m\u001b[0m\n\u001b[1;32m----> 3\u001b[1;33m \u001b[1;32mfrom\u001b[0m \u001b[1;33m.\u001b[0m\u001b[0m_vectorized\u001b[0m \u001b[1;32mimport\u001b[0m \u001b[1;33m(\u001b[0m\u001b[0mcontains\u001b[0m\u001b[1;33m,\u001b[0m \u001b[0mtouches\u001b[0m\u001b[1;33m)\u001b[0m\u001b[1;33m\u001b[0m\u001b[1;33m\u001b[0m\u001b[0m\n\u001b[0m",
      "\u001b[1;31mImportError\u001b[0m: DLL load failed: The specified module could not be found."
     ]
    }
   ],
   "source": [
    "import shapely.vectorized\n",
    "from shapely.geometry import Polygon\n",
    "\n",
    "# Reform the csv data into lon, lat pairs\n",
    "poly = list(zip(list(myPolygon.Longitude), list(myPolygon.Latitude)))\n",
    "\n",
    "# create shape\n",
    "polyshape = Polygon(poly)\n",
    "polyshape"
   ]
  },
  {
   "cell_type": "markdown",
   "metadata": {},
   "source": [
    "## Load the SST data from ERDDAP (detailed explanations in tutorial #1)"
   ]
  },
  {
   "cell_type": "code",
   "execution_count": 5,
   "metadata": {},
   "outputs": [],
   "source": [
    "# Define the function\n",
    "def point_to_dataset(dataset_id, base_url='https://coastwatch.pfeg.noaa.gov/erddap/griddap'):\n",
    "    base_url = base_url.rstrip('/')\n",
    "    full_url = '/'.join([base_url, dataset_id])\n",
    "    #print(full_url)\n",
    "    # xr.open_dataset('https://coastwatch.pfeg.noaa.gov/erddap/griddap/coastwatchSMOSv662SSS3day')\n",
    "    return xr.open_dataset(full_url)\n",
    "\n",
    "# Call the function\n",
    "da = point_to_dataset('nesdisGeoPolarSSTN5SQNRT')\n",
    "\n",
    "# uncomment the \"da\" below to see the full data array info\n",
    "# da"
   ]
  },
  {
   "cell_type": "code",
   "execution_count": 11,
   "metadata": {},
   "outputs": [],
   "source": [
    "def get_data(my_da, my_var,\n",
    "             my_lt_min, my_lt_max, \n",
    "             my_ln_min, my_ln_max, \n",
    "             my_tm_min, my_tm_max\n",
    "            ):\n",
    "    \n",
    "    my_data = my_da[my_var].sel(\n",
    "                                latitude=slice(my_lt_min, my_lt_max), \n",
    "                                longitude=slice(my_ln_min, my_ln_max), \n",
    "                                time=slice(my_tm_min, my_tm_max)\n",
    "                               )\n",
    "    return my_data"
   ]
  },
  {
   "cell_type": "markdown",
   "metadata": {},
   "source": [
    "### Run the function with our geographical and time ranges"
   ]
  },
  {
   "cell_type": "code",
   "execution_count": 12,
   "metadata": {},
   "outputs": [
    {
     "name": "stdout",
     "output_type": "stream",
     "text": [
      "('time', 'latitude', 'longitude')\n",
      "dimension size (5, 140, 140)\n"
     ]
    }
   ],
   "source": [
    "\n",
    "lat_min  = 32.\n",
    "lat_max = 39.\n",
    "lon_min = -124.\n",
    "lon_max = -117.\n",
    "time_min = '2020-06-03T12:00:00'  # written in ISO format\n",
    "time_max = '2020-06-07T12:00:00'  # written in ISO format\n",
    "my_var = 'analysed_sst'\n",
    "\n",
    "sst = get_data(\n",
    "               da, my_var,\n",
    "               lat_min, lat_max,\n",
    "               lon_min, lon_max,\n",
    "               time_min, time_max\n",
    "              )\n",
    "\n",
    "# the sst data array is a subset if da\n",
    "print(sst.dims)\n",
    "print('dimension size', sst.shape)\n",
    "\n",
    "# uncomment the \"sst\" below to see the full data array info\n",
    "#sst"
   ]
  },
  {
   "cell_type": "markdown",
   "metadata": {},
   "source": [
    "## Create a mask from the polygon object\n",
    "* Make a copy of the SST data array\n",
    "* Turn the array into a mask layer by finding all pixels that are inside the polygon. Give these pixels a value of True. Cells outside the polygon have a value of False.\n",
    "* Plot the mask on a map to see its location."
   ]
  },
  {
   "cell_type": "code",
   "execution_count": 96,
   "metadata": {},
   "outputs": [],
   "source": [
    "# Flatten and make a list of lon/lat pairs. \n",
    "# Make 2D grids of the lat and lon vectors\n",
    "p_lons, p_lats = np.meshgrid(sst.longitude, sst.latitude)\n",
    "\n",
    "mask = shapely.vectorized.contains(polyshape,  p_lons, p_lats)"
   ]
  },
  {
   "cell_type": "markdown",
   "metadata": {},
   "source": [
    "## Create a masked version of the sst data area \n",
    "### Data outside of the Monterey Bay National Marine Sanctuary is masked out.\n",
    "Plot the results"
   ]
  },
  {
   "cell_type": "code",
   "execution_count": 97,
   "metadata": {},
   "outputs": [
    {
     "data": {
      "image/png": "[encoded data removed]",
      "text/plain": [
       "<Figure size 432x288 with 2 Axes>"
      ]
     },
     "metadata": {
      "needs_background": "light"
     },
     "output_type": "display_data"
    },
    {
     "data": {
      "image/png": "[encoded data removed]",
      "text/plain": [
       "<Figure size 432x288 with 2 Axes>"
      ]
     },
     "metadata": {
      "needs_background": "light"
     },
     "output_type": "display_data"
    },
    {
     "data": {
      "image/png": "[encoded data removed]",
      "text/plain": [
       "<Figure size 432x288 with 2 Axes>"
      ]
     },
     "metadata": {
      "needs_background": "light"
     },
     "output_type": "display_data"
    },
    {
     "data": {
      "image/png": "[encoded data removed]",
      "text/plain": [
       "<Figure size 432x288 with 2 Axes>"
      ]
     },
     "metadata": {
      "needs_background": "light"
     },
     "output_type": "display_data"
    }
   ],
   "source": [
    "# Copy the sst data array\n",
    "sst_masked = sst.copy(deep=True, data=None)\n",
    "\n",
    "# Apply the mask to each time slice\n",
    "for i in range(0, len(sst_masked.time)):\n",
    "    sst_masked[i,:,:] = sst_masked.isel(time=i).where(mask == 1)\n",
    "\n",
    "#Plot the results for each time slice\n",
    "for i in range(0,len(sst_masked.time)):\n",
    "    ax = plt.subplot()\n",
    "    sst_masked.isel(time=i).plot.imshow()\n",
    "    plt.show()"
   ]
  },
  {
   "cell_type": "markdown",
   "metadata": {},
   "source": [
    "## Create a new Pandas data frame and compute basic statistics for the masked data \n"
   ]
  },
  {
   "cell_type": "code",
   "execution_count": 99,
   "metadata": {},
   "outputs": [
    {
     "data": {
      "text/html": [
       "<div>\n",
       "<style scoped>\n",
       "    .dataframe tbody tr th:only-of-type {\n",
       "        vertical-align: middle;\n",
       "    }\n",
       "\n",
       "    .dataframe tbody tr th {\n",
       "        vertical-align: top;\n",
       "    }\n",
       "\n",
       "    .dataframe thead th {\n",
       "        text-align: right;\n",
       "    }\n",
       "</style>\n",
       "<table border=\"1\" class=\"dataframe\">\n",
       "  <thead>\n",
       "    <tr style=\"text-align: right;\">\n",
       "      <th></th>\n",
       "      <th>date</th>\n",
       "      <th>mean</th>\n",
       "      <th>stdev</th>\n",
       "      <th>n</th>\n",
       "    </tr>\n",
       "  </thead>\n",
       "  <tbody>\n",
       "    <tr>\n",
       "      <th>0</th>\n",
       "      <td>2020-06-03 12:00:00</td>\n",
       "      <td>14.259453</td>\n",
       "      <td>0.470414</td>\n",
       "      <td>554</td>\n",
       "    </tr>\n",
       "    <tr>\n",
       "      <th>1</th>\n",
       "      <td>2020-06-04 12:00:00</td>\n",
       "      <td>14.243837</td>\n",
       "      <td>0.517960</td>\n",
       "      <td>554</td>\n",
       "    </tr>\n",
       "    <tr>\n",
       "      <th>2</th>\n",
       "      <td>2020-06-05 12:00:00</td>\n",
       "      <td>13.877666</td>\n",
       "      <td>0.536191</td>\n",
       "      <td>554</td>\n",
       "    </tr>\n",
       "    <tr>\n",
       "      <th>3</th>\n",
       "      <td>2020-06-06 12:00:00</td>\n",
       "      <td>13.717341</td>\n",
       "      <td>0.478556</td>\n",
       "      <td>554</td>\n",
       "    </tr>\n",
       "    <tr>\n",
       "      <th>4</th>\n",
       "      <td>2020-06-07 12:00:00</td>\n",
       "      <td>13.524508</td>\n",
       "      <td>0.616973</td>\n",
       "      <td>554</td>\n",
       "    </tr>\n",
       "  </tbody>\n",
       "</table>\n",
       "</div>"
      ],
      "text/plain": [
       "                  date       mean     stdev    n\n",
       "0  2020-06-03 12:00:00  14.259453  0.470414  554\n",
       "1  2020-06-04 12:00:00  14.243837  0.517960  554\n",
       "2  2020-06-05 12:00:00  13.877666  0.536191  554\n",
       "3  2020-06-06 12:00:00  13.717341  0.478556  554\n",
       "4  2020-06-07 12:00:00  13.524508  0.616973  554"
      ]
     },
     "metadata": {},
     "output_type": "display_data"
    }
   ],
   "source": [
    "# create the data frame\n",
    "masked_sst_df = pd.DataFrame()\n",
    "\n",
    "# add the data\n",
    "masked_sst_df[\"date\"] = sst_masked.time\n",
    "masked_sst_df[\"mean\"] = sst_masked.mean(axis=(1,2))\n",
    "masked_sst_df[\"stdev\"] = sst_masked.std(axis=(1,2)) \n",
    "masked_sst_df[\"n\"] = sst_masked.count(axis=(1,2)) \n",
    "\n",
    "# Display\n",
    "display(masked_sst_df)\n",
    "\n",
    "# uncomment to save the data\n",
    "# masked_sst_df.to_csv('mbnms_results.csv', index = False)"
   ]
  },
  {
   "cell_type": "markdown",
   "metadata": {},
   "source": [
    "## Plot the mean SST within the boundary"
   ]
  },
  {
   "cell_type": "code",
   "execution_count": 100,
   "metadata": {},
   "outputs": [
    {
     "data": {
      "image/png": "[encoded data removed]",
      "text/plain": [
       "<Figure size 432x288 with 1 Axes>"
      ]
     },
     "metadata": {
      "needs_background": "light"
     },
     "output_type": "display_data"
    }
   ],
   "source": [
    "plt.plot_date(sst_masked.time, masked_sst_df[\"mean\"], 'o')\n",
    "plt.gcf().autofmt_xdate()\n"
   ]
  },
  {
   "cell_type": "markdown",
   "metadata": {},
   "source": [
    "# Appendix"
   ]
  },
  {
   "cell_type": "markdown",
   "metadata": {},
   "source": [
    "## Installation instruction are at these links\n",
    "pandas: https://pandas.pydata.org/pandas-docs/stable/getting_started/install.html   \n",
    "numpy: https://numpy.org/install/  \n",
    "xarray: http://xarray.pydata.org/en/latest/getting-started-guide/installing.html\n",
    "\n",
    "shapely: pip install --user shapely    in Anaconda powershell"
   ]
  },
  {
   "cell_type": "code",
   "execution_count": null,
   "metadata": {},
   "outputs": [],
   "source": []
  }
 ],
 "metadata": {
  "kernelspec": {
   "display_name": "Python 3",
   "language": "python",
   "name": "python3"
  },
  "language_info": {
   "codemirror_mode": {
    "name": "ipython",
    "version": 3
   },
   "file_extension": ".py",
   "mimetype": "text/x-python",
   "name": "python",
   "nbconvert_exporter": "python",
   "pygments_lexer": "ipython3",
   "version": "3.7.4"
  }
 },
 "nbformat": 4,
 "nbformat_minor": 2
}
